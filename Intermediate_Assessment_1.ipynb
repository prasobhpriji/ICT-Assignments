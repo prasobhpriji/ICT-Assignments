{
  "nbformat": 4,
  "nbformat_minor": 0,
  "metadata": {
    "colab": {
      "provenance": []
    },
    "kernelspec": {
      "name": "python3",
      "display_name": "Python 3"
    },
    "language_info": {
      "name": "python"
    }
  },
  "cells": [
    {
      "cell_type": "code",
      "source": [
        "# Intermediate Assessment 01 - ShopEase Sales Analysis\n",
        "\n",
        "print(\"- ShopEase Sales Data Analysis - \\n\")\n",
        "\n",
        "# 1.1 Simulate a dataset of 10 sales records\n",
        "print(\"1.1 Simulating Sales Dataset: \\n\")\n",
        "sales_data = [\n",
        "    {\"order_id\": 101, \"customer\": \"Customer A\", \"item\": \"Laptop\", \"quantity\": 1, \"price_per_item\": 45000.0, \"order_date\": \"2024-01-15\"},\n",
        "    {\"order_id\": 102, \"customer\": \"Customer B\", \"item\": \"Headphones\", \"quantity\": 2, \"price_per_item\": 2500.0, \"order_date\": \"2024-01-16\"},\n",
        "    {\"order_id\": 103, \"customer\": \"Customer C\", \"item\": \"Smartphone\", \"quantity\": 1, \"price_per_item\": 35000.0, \"order_date\": \"2024-01-17\"},\n",
        "    {\"order_id\": 104, \"customer\": \"Customer A\", \"item\": \"Mouse\", \"quantity\": 3, \"price_per_item\": 800.0, \"order_date\": \"2024-01-18\"},\n",
        "    {\"order_id\": 105, \"customer\": \"Customer D\", \"item\": \"Tablet\", \"quantity\": 1, \"price_per_item\": 18000.0, \"order_date\": \"2024-01-19\"},\n",
        "    {\"order_id\": 106, \"customer\": \"Customer B\", \"item\": \"Keyboard\", \"quantity\": 2, \"price_per_item\": 1200.0, \"order_date\": \"2024-01-20\"},\n",
        "    {\"order_id\": 107, \"customer\": \"Customer E\", \"item\": \"Laptop\", \"quantity\": 1, \"price_per_item\": 42000.0, \"order_date\": \"2024-01-21\"},\n",
        "    {\"order_id\": 108, \"customer\": \"Customer C\", \"item\": \"Tablet\", \"quantity\": 1, \"price_per_item\": 20000.0, \"order_date\": \"2024-01-22\"},\n",
        "    {\"order_id\": 109, \"customer\": \"Customer D\", \"item\": \"Headphones\", \"quantity\": 4, \"price_per_item\": 1500.0, \"order_date\": \"2024-01-23\"},\n",
        "    {\"order_id\": 110, \"customer\": \"Customer A\", \"item\": \"Smartphone\", \"quantity\": 1, \"price_per_item\": 32000.0, \"order_date\": \"2024-01-24\"}\n",
        "]\n",
        "\n",
        "# Print the dataset\n",
        "for order in sales_data:\n",
        "    print(f\"Order {order['order_id']}: {order['customer']} bought {order['quantity']} {order['item']}(s) for ₹{order['price_per_item']} each\")"
      ],
      "metadata": {
        "colab": {
          "base_uri": "https://localhost:8080/"
        },
        "id": "Zik-QpftQmAP",
        "outputId": "f354fff3-36e3-409d-b6d3-60ac76416919"
      },
      "execution_count": 89,
      "outputs": [
        {
          "output_type": "stream",
          "name": "stdout",
          "text": [
            "- ShopEase Sales Data Analysis - \n",
            "\n",
            "1.1 Simulating Sales Dataset: \n",
            "\n",
            "Order 101: Customer A bought 1 Laptop(s) for ₹45000.0 each\n",
            "Order 102: Customer B bought 2 Headphones(s) for ₹2500.0 each\n",
            "Order 103: Customer C bought 1 Smartphone(s) for ₹35000.0 each\n",
            "Order 104: Customer A bought 3 Mouse(s) for ₹800.0 each\n",
            "Order 105: Customer D bought 1 Tablet(s) for ₹18000.0 each\n",
            "Order 106: Customer B bought 2 Keyboard(s) for ₹1200.0 each\n",
            "Order 107: Customer E bought 1 Laptop(s) for ₹42000.0 each\n",
            "Order 108: Customer C bought 1 Tablet(s) for ₹20000.0 each\n",
            "Order 109: Customer D bought 4 Headphones(s) for ₹1500.0 each\n",
            "Order 110: Customer A bought 1 Smartphone(s) for ₹32000.0 each\n"
          ]
        }
      ]
    },
    {
      "cell_type": "code",
      "execution_count": 90,
      "metadata": {
        "colab": {
          "base_uri": "https://localhost:8080/"
        },
        "id": "MWfiMlZG3FYA",
        "outputId": "7dd828c0-363b-4e58-b273-078d4ff589fa"
      },
      "outputs": [
        {
          "output_type": "stream",
          "name": "stdout",
          "text": [
            "2.1 Calculating Total Revenue \n",
            "\n",
            "Total Revenue: ₹207,800.00\n"
          ]
        }
      ],
      "source": [
        "# 2.1 Calculate total revenue for the store\n",
        "print(\"2.1 Calculating Total Revenue \\n\")\n",
        "total_revenue = 0\n",
        "for order in sales_data:\n",
        "    order_value = order['quantity'] * order['price_per_item']\n",
        "    total_revenue += order_value\n",
        "\n",
        "print(f\"Total Revenue: ₹{total_revenue:,.2f}\")"
      ]
    },
    {
      "cell_type": "code",
      "source": [
        "# 2.2 Identify orders where total value exceeds ₹2,000\n",
        "print(\"2.2 Orders with value > ₹2,000: \\n\")\n",
        "high_value_orders = []\n",
        "for order in sales_data:\n",
        "    order_value = order['quantity'] * order['price_per_item']\n",
        "    if order_value > 2000:\n",
        "        high_value_orders.append(order)\n",
        "        print(f\"Order {order['order_id']}: {order['customer']} - ₹{order_value:,.2f}\")"
      ],
      "metadata": {
        "colab": {
          "base_uri": "https://localhost:8080/"
        },
        "id": "wF0kUS34Tujr",
        "outputId": "1e36b157-da67-4288-e60f-17a7df52f1eb"
      },
      "execution_count": 91,
      "outputs": [
        {
          "output_type": "stream",
          "name": "stdout",
          "text": [
            "2.2 Orders with value > ₹2,000: \n",
            "\n",
            "Order 101: Customer A - ₹45,000.00\n",
            "Order 102: Customer B - ₹5,000.00\n",
            "Order 103: Customer C - ₹35,000.00\n",
            "Order 104: Customer A - ₹2,400.00\n",
            "Order 105: Customer D - ₹18,000.00\n",
            "Order 106: Customer B - ₹2,400.00\n",
            "Order 107: Customer E - ₹42,000.00\n",
            "Order 108: Customer C - ₹20,000.00\n",
            "Order 109: Customer D - ₹6,000.00\n",
            "Order 110: Customer A - ₹32,000.00\n"
          ]
        }
      ]
    },
    {
      "cell_type": "code",
      "source": [
        "# 2.3 Find item with highest total quantity sold\n",
        "item_quantities = {}\n",
        "for order in sales_data:\n",
        "    item = order['item']\n",
        "    quantity = order['quantity']\n",
        "\n",
        "    if item in item_quantities:\n",
        "        item_quantities[item] += quantity\n",
        "    else:\n",
        "        item_quantities[item] = quantity\n",
        "\n",
        "# Find item with maximum quantity\n",
        "most_popular_item = max(item_quantities, key=item_quantities.get)\n",
        "max_quantity = item_quantities[most_popular_item]\n",
        "\n",
        "print(f\"Most popular item: {most_popular_item} (Total quantity sold: {max_quantity})\")"
      ],
      "metadata": {
        "colab": {
          "base_uri": "https://localhost:8080/"
        },
        "id": "OLkjcHu-Tp48",
        "outputId": "7bdf221a-e251-4062-f91d-9125fb317503"
      },
      "execution_count": 92,
      "outputs": [
        {
          "output_type": "stream",
          "name": "stdout",
          "text": [
            "Most popular item: Headphones (Total quantity sold: 6)\n"
          ]
        }
      ]
    },
    {
      "cell_type": "code",
      "source": [
        "# 3.1 Function to apply discount\n",
        "print(\"3.1 Applying Discount to Orders: \\n\")\n",
        "def apply_discount(orders, discount_rate):\n",
        "    discounted_orders = []\n",
        "    for order in orders:\n",
        "        new_order = order.copy()\n",
        "        new_order['price_per_item'] = new_order['price_per_item'] * (1 - discount_rate)\n",
        "        discounted_orders.append(new_order)\n",
        "\n",
        "    return discounted_orders\n",
        "\n",
        "# Test the discount function\n",
        "discount_rate = 0.10  # 10% discount\n",
        "discounted_orders = apply_discount(sales_data, discount_rate)\n",
        "\n",
        "print(f\"Applied {discount_rate*100}% discount:\")\n",
        "print(\"Original prices vs Discounted prices:\")\n",
        "for i in range(min(3, len(sales_data))):  # Show first 3 for comparison\n",
        "    original = sales_data[i]\n",
        "    discounted = discounted_orders[i]\n",
        "    print(f\"Order {original['order_id']}: ₹{original['price_per_item']:,.2f} → ₹{discounted['price_per_item']:,.2f}\")"
      ],
      "metadata": {
        "colab": {
          "base_uri": "https://localhost:8080/"
        },
        "id": "k_foyX0OQ1s_",
        "outputId": "f36206fb-7ca8-43e3-f563-3af483406589"
      },
      "execution_count": 93,
      "outputs": [
        {
          "output_type": "stream",
          "name": "stdout",
          "text": [
            "3.1 Applying Discount to Orders: \n",
            "\n",
            "Applied 10.0% discount:\n",
            "Original prices vs Discounted prices:\n",
            "Order 101: ₹45,000.00 → ₹40,500.00\n",
            "Order 102: ₹2,500.00 → ₹2,250.00\n",
            "Order 103: ₹35,000.00 → ₹31,500.00\n"
          ]
        }
      ]
    },
    {
      "cell_type": "code",
      "source": [
        "# 3.2 Explanation of Local vs Global Variable Scope\n",
        "print(\"3.2 Local vs Global Variable Scope Explanation:\")\n",
        "\n",
        "print(\"\"\"\n",
        "In Python:\n",
        "- Global variables are created outside any function and can be used anywhere in the program.\n",
        "- Local variables are created inside a function and can be used only within that function.\n",
        "\"\"\")\n",
        "\n",
        "global_message = \"I am a global variable\"  # global variable\n",
        "\n",
        "def example():\n",
        "    local_message = \"I am a local variable\"  # local variable\n",
        "    print(\"Inside function:\")\n",
        "    print(global_message)    # accessing global variable\n",
        "    print(local_message)     # accessing local variable\n",
        "\n",
        "example()\n",
        "\n",
        "print(\"\\nOutside function:\")\n",
        "print(global_message)  # works fine (global)\n",
        "try:\n",
        "    print(local_message)  # will cause an error\n",
        "except NameError:\n",
        "    print(\"Error: 'local_message' cannot be accessed outside the function (it is local).\")"
      ],
      "metadata": {
        "colab": {
          "base_uri": "https://localhost:8080/"
        },
        "id": "IL44OtkfTBZ_",
        "outputId": "f92429ec-d2d7-4166-ba76-b888a25e1754"
      },
      "execution_count": 94,
      "outputs": [
        {
          "output_type": "stream",
          "name": "stdout",
          "text": [
            "3.2 Local vs Global Variable Scope Explanation:\n",
            "\n",
            "In Python:\n",
            "- Global variables are created outside any function and can be used anywhere in the program.\n",
            "- Local variables are created inside a function and can be used only within that function.\n",
            "\n",
            "Inside function:\n",
            "I am a global variable\n",
            "I am a local variable\n",
            "\n",
            "Outside function:\n",
            "I am a global variable\n",
            "Error: 'local_message' cannot be accessed outside the function (it is local).\n"
          ]
        }
      ]
    },
    {
      "cell_type": "code",
      "source": [
        "# 4.1 Custom Iterator Class\n",
        "print(\"4.1 Custom Order Iterator: \\n\")\n",
        "\n",
        "class OrderIterator:\n",
        "    def __init__(self, orders):\n",
        "        self.orders = orders\n",
        "        self.index = 0\n",
        "\n",
        "    def __iter__(self):\n",
        "        return self\n",
        "\n",
        "    def __next__(self):\n",
        "        if self.index < len(self.orders):\n",
        "            order = self.orders[self.index]\n",
        "            self.index += 1\n",
        "            return order\n",
        "        else:\n",
        "            raise StopIteration\n",
        "\n",
        "# Using the custom iterator\n",
        "print(\"Iterating through orders using custom iterator:\")\n",
        "order_iterator = OrderIterator(sales_data)\n",
        "for order in order_iterator:\n",
        "    print(f\"Order {order['order_id']}: {order['customer']} - {order['item']}\")"
      ],
      "metadata": {
        "colab": {
          "base_uri": "https://localhost:8080/"
        },
        "id": "tICkm5pZQ7Hq",
        "outputId": "88cf9374-39de-40df-907a-6475d354eca8"
      },
      "execution_count": 95,
      "outputs": [
        {
          "output_type": "stream",
          "name": "stdout",
          "text": [
            "4.1 Custom Order Iterator: \n",
            "\n",
            "Iterating through orders using custom iterator:\n",
            "Order 101: Customer A - Laptop\n",
            "Order 102: Customer B - Headphones\n",
            "Order 103: Customer C - Smartphone\n",
            "Order 104: Customer A - Mouse\n",
            "Order 105: Customer D - Tablet\n",
            "Order 106: Customer B - Keyboard\n",
            "Order 107: Customer E - Laptop\n",
            "Order 108: Customer C - Tablet\n",
            "Order 109: Customer D - Headphones\n",
            "Order 110: Customer A - Smartphone\n"
          ]
        }
      ]
    },
    {
      "cell_type": "code",
      "source": [
        "# 4.2 Group orders by customer using dictionary comprehension\n",
        "print(\"4.2 Grouping Orders by Customer:\")\n",
        "\n",
        "# Dictionary comprehension to group orders by customer\n",
        "orders_by_customer = {customer: [] for customer in set(order['customer'] for order in sales_data)}\n",
        "\n",
        "# Fill the dictionary with orders\n",
        "for order in sales_data:\n",
        "    orders_by_customer[order['customer']].append(order)\n",
        "\n",
        "# Display the grouped orders\n",
        "for customer, orders in orders_by_customer.items():\n",
        "    print(f\"\\n{customer}'s orders:\")\n",
        "    for order in orders:\n",
        "        print(f\"  - Order {order['order_id']}: {order['item']} (Qty: {order['quantity']})\")"
      ],
      "metadata": {
        "colab": {
          "base_uri": "https://localhost:8080/"
        },
        "id": "NlLZ0df5SoUt",
        "outputId": "6accbad9-e0d0-4c05-caf3-e6bfa61f8552"
      },
      "execution_count": 96,
      "outputs": [
        {
          "output_type": "stream",
          "name": "stdout",
          "text": [
            "4.2 Grouping Orders by Customer:\n",
            "\n",
            "Customer C's orders:\n",
            "  - Order 103: Smartphone (Qty: 1)\n",
            "  - Order 108: Tablet (Qty: 1)\n",
            "\n",
            "Customer D's orders:\n",
            "  - Order 105: Tablet (Qty: 1)\n",
            "  - Order 109: Headphones (Qty: 4)\n",
            "\n",
            "Customer A's orders:\n",
            "  - Order 101: Laptop (Qty: 1)\n",
            "  - Order 104: Mouse (Qty: 3)\n",
            "  - Order 110: Smartphone (Qty: 1)\n",
            "\n",
            "Customer E's orders:\n",
            "  - Order 107: Laptop (Qty: 1)\n",
            "\n",
            "Customer B's orders:\n",
            "  - Order 102: Headphones (Qty: 2)\n",
            "  - Order 106: Keyboard (Qty: 2)\n"
          ]
        }
      ]
    },
    {
      "cell_type": "code",
      "source": [
        "# Summary\n",
        "print(\"- Summary - \\n\")\n",
        "print(f\"Total number of orders: {len(sales_data)}\")\n",
        "print(f\"Number of customers: {len(orders_by_customer)}\")\n",
        "print(f\"Number of high-value orders (>₹2,000): {len(high_value_orders)}\")\n",
        "print(f\"Most popular item: {most_popular_item}\")\n",
        "print(f\"Total revenue: ₹{total_revenue:,.2f}\")"
      ],
      "metadata": {
        "colab": {
          "base_uri": "https://localhost:8080/"
        },
        "id": "IieDmIUpQ8JI",
        "outputId": "c28b1098-ddd8-466b-e6bf-8d8b54e45482"
      },
      "execution_count": 97,
      "outputs": [
        {
          "output_type": "stream",
          "name": "stdout",
          "text": [
            "- Summary - \n",
            "\n",
            "Total number of orders: 10\n",
            "Number of customers: 5\n",
            "Number of high-value orders (>₹2,000): 10\n",
            "Most popular item: Headphones\n",
            "Total revenue: ₹207,800.00\n"
          ]
        }
      ]
    }
  ]
}